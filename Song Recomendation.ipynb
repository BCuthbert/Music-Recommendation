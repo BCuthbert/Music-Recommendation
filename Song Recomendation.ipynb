{
 "cells": [
  {
   "cell_type": "code",
   "execution_count": 121,
   "id": "629645f7",
   "metadata": {},
   "outputs": [],
   "source": [
    "import os\n",
    "import pandas as pd\n",
    "import numpy as np\n",
    "import networkx as nx\n",
    "import h5py\n",
    "from concurrent.futures import ThreadPoolExecutor, as_completed\n"
   ]
  },
  {
   "cell_type": "code",
   "execution_count": 122,
   "id": "d0f0fe20",
   "metadata": {},
   "outputs": [],
   "source": [
    "base_path = \"C:/Users/brade/Downloads/millionsongsubset/MillionSongSubset\""
   ]
  },
  {
   "cell_type": "code",
   "execution_count": 171,
   "id": "c392ec5b",
   "metadata": {},
   "outputs": [],
   "source": [
    "def parse_h5_file(file_path):\n",
    "    with h5py.File(file_path, 'r') as f:\n",
    "        data = {}\n",
    "\n",
    "        artist_name = f.get('metadata/songs', None)\n",
    "        if artist_name is not None:\n",
    "            artist_name = artist_name[0][2]\n",
    "            if isinstance(artist_name, bytes):\n",
    "                artist_name = artist_name.decode('utf-8')\n",
    "\n",
    "        song_hotttnesss = f.get('metadata/songs', None)\n",
    "        if song_hotttnesss is not None:\n",
    "            song_hotttnesss = song_hotttnesss[0][5]\n",
    "\n",
    "        danceability = f.get('metadata/songs', None)\n",
    "        if danceability is not None:\n",
    "            danceability = danceability[0][6]  \n",
    "\n",
    "        energy = f.get('metadata/songs', None)\n",
    "        if energy is not None:\n",
    "            energy = energy[0][7]  \n",
    "\n",
    "        similar_artists = f.get('metadata/similar_artists', None)\n",
    "        if similar_artists is not None:\n",
    "            similar_artists = [x.decode('utf-8') if isinstance(x, bytes) else x for x in similar_artists[:100]]  # Limit to 100 similar artists\n",
    "\n",
    "        data = {\n",
    "            'artist_name': artist_name,\n",
    "            'song_hotttnesss': song_hotttnesss,\n",
    "            'danceability': danceability,\n",
    "            'energy': energy,\n",
    "            'similar_artists': similar_artists\n",
    "        }\n",
    "\n",
    "        return data\n",
    "\n",
    "def parse_directory(directory_path):\n",
    "    data_list = []\n",
    "\n",
    "    for subdir, dirs, files in os.walk(directory_path):\n",
    "        for file in files:\n",
    "            if file.endswith('.h5'):\n",
    "                file_path = os.path.join(subdir, file)\n",
    "                data = parse_h5_file(file_path)\n",
    "                data_list.append(data)\n",
    "\n",
    "    df = pd.DataFrame(data_list)\n",
    "\n",
    "    return df\n",
    "\n",
    "def print_h5_structure(file_path):\n",
    "    with h5py.File(file_path, 'r') as f:\n",
    "        def print_group(name, obj):\n",
    "            print(f\"{name}: {obj}\")\n",
    "        f.visititems(print_group)"
   ]
  },
  {
   "cell_type": "code",
   "execution_count": 172,
   "id": "913094d1",
   "metadata": {},
   "outputs": [
    {
     "name": "stdout",
     "output_type": "stream",
     "text": [
      "   artist_name  song_hotttnesss        danceability    energy  \\\n",
      "0     0.581794              NaN  b'California - LA'       NaN   \n",
      "1     0.630630         35.14968      b'Memphis, TN' -90.04892   \n",
      "2     0.487357              NaN                 b''       NaN   \n",
      "3     0.630382              NaN  b'London, England'       NaN   \n",
      "4     0.651046              NaN                 b''       NaN   \n",
      "\n",
      "                                     similar_artists  \n",
      "0  [ARV4KO21187FB38008, ARWHM281187FB3D381, ARJGO...  \n",
      "1  [ARSZWK21187B9B26D7, ARLDW2Y1187B9B544F, ARG0T...  \n",
      "2  [ARFSJUG11C8A421AAD, AR8SD041187FB36015, ARR75...  \n",
      "3  [AR4R0741187FB39AF2, AR0D7K21187B9AD14E, ARRCB...  \n",
      "4  [ARUA62A1187B99D9B0, ARHJFFY1187B98BA76, ARHB1...  \n"
     ]
    }
   ],
   "source": [
    "sample_file = \"C:/Users/brade/Downloads/millionsongsubset/MillionSongSubset/A/Y/Y/TRAYYAU128F92D58D0.h5\"\n",
    "df = parse_directory(base_path)\n",
    "print(df.head())"
   ]
  },
  {
   "cell_type": "code",
   "execution_count": 120,
   "id": "247788ee",
   "metadata": {},
   "outputs": [
    {
     "name": "stdout",
     "output_type": "stream",
     "text": [
      "First song data (b'', 250063, 0.65801659, 0.47249548, b'ARBZHTB1187FB3A725', nan, b'', nan, b'36bb2418-3fa0-40c6-8805-a15498aec764', b'Aaron Watson', 9030, b'', 0, 0, b'Angels & Outlaws', 321603, 0.39200877, b'SOKLIMD12A8C145AC3', b'Whiskey on the Fire', 3623978)\n",
      "First song data (b'', 41172, 0.37084887, 0.32681012, b'AR0LPDJ1187B9919F1', 54.5958, b'Belfast, Northern Ireland', -5.93494, b'294eadc8-56a0-4a49-aa47-16786003adc9', b'Derek Bell', 23421, b'', 0, 0, b'Tears Of Stone', 296703, 0.33470655, b'SOQDIQK12A8C13CB23', b'Sake In The Jar', 3359593)\n",
      "First song data (b'', 87883, 0.54793824, 0.37479122, b'AR37ILI1187B98E27B', nan, b'London, England', nan, b'748161b8-ec62-4423-b6f1-3a8026190ebb', b'Shriekback', -1, b'', 0, 0, b'Big Night Music', 679623, 0.33470655, b'SOXSNIW12AB018681A', b'Running On The Rocks', 7540832)\n"
     ]
    }
   ],
   "source": []
  },
  {
   "cell_type": "code",
   "execution_count": null,
   "id": "f0236d0a",
   "metadata": {},
   "outputs": [],
   "source": []
  },
  {
   "cell_type": "code",
   "execution_count": null,
   "id": "e3eb8411",
   "metadata": {},
   "outputs": [],
   "source": []
  },
  {
   "cell_type": "code",
   "execution_count": 14,
   "id": "7dfccba9",
   "metadata": {},
   "outputs": [],
   "source": []
  },
  {
   "cell_type": "code",
   "execution_count": 18,
   "id": "ad947652",
   "metadata": {},
   "outputs": [
    {
     "name": "stdout",
     "output_type": "stream",
     "text": [
      "\n",
      "Katz Similarity Recommendations for user1:\n",
      "user3: 0.0051\n",
      "user2: 0.0025\n",
      "Wreck of the Old 97: 0.0001\n",
      "user4: 0.0000\n",
      "\n",
      "Adamic-Adar Scores for user1 and songs:\n"
     ]
    },
    {
     "name": "stderr",
     "output_type": "stream",
     "text": [
      "C:\\Users\\brade\\AppData\\Local\\Temp\\ipykernel_2892\\3214436760.py:24: FutureWarning: adjacency_matrix will return a scipy.sparse array instead of a matrix in Networkx 3.0.\n",
      "  adjacency = nx.adjacency_matrix(graph).todense()\n"
     ]
    }
   ],
   "source": []
  },
  {
   "cell_type": "code",
   "execution_count": 2,
   "id": "a5513300",
   "metadata": {},
   "outputs": [
    {
     "ename": "NameError",
     "evalue": "name 'normalized_recom' is not defined",
     "output_type": "error",
     "traceback": [
      "\u001b[1;31m---------------------------------------------------------------------------\u001b[0m",
      "\u001b[1;31mNameError\u001b[0m                                 Traceback (most recent call last)",
      "\u001b[1;32m~\\AppData\\Local\\Temp\\ipykernel_11612\\2539246175.py\u001b[0m in \u001b[0;36m<module>\u001b[1;34m\u001b[0m\n\u001b[0;32m      1\u001b[0m hybrid_scores = {\n\u001b[0;32m      2\u001b[0m     \u001b[0msong\u001b[0m\u001b[1;33m:\u001b[0m \u001b[1;36m0.7\u001b[0m \u001b[1;33m*\u001b[0m \u001b[0mkatz_score\u001b[0m \u001b[1;33m+\u001b[0m \u001b[1;36m0.3\u001b[0m \u001b[1;33m*\u001b[0m \u001b[0madamic_score\u001b[0m\u001b[1;33m\u001b[0m\u001b[1;33m\u001b[0m\u001b[0m\n\u001b[1;32m----> 3\u001b[1;33m     \u001b[1;32mfor\u001b[0m \u001b[0msong\u001b[0m\u001b[1;33m,\u001b[0m \u001b[0mkatz_score\u001b[0m \u001b[1;32min\u001b[0m \u001b[0mnormalized_recom\u001b[0m\u001b[1;33m.\u001b[0m\u001b[0mitems\u001b[0m\u001b[1;33m(\u001b[0m\u001b[1;33m)\u001b[0m\u001b[1;33m\u001b[0m\u001b[1;33m\u001b[0m\u001b[0m\n\u001b[0m\u001b[0;32m      4\u001b[0m     \u001b[1;32mfor\u001b[0m \u001b[0m_\u001b[0m\u001b[1;33m,\u001b[0m \u001b[0msong_\u001b[0m\u001b[1;33m,\u001b[0m \u001b[0madamic_score\u001b[0m \u001b[1;32min\u001b[0m \u001b[0madamic_adar_scores\u001b[0m\u001b[1;33m\u001b[0m\u001b[1;33m\u001b[0m\u001b[0m\n\u001b[0;32m      5\u001b[0m     \u001b[1;32mif\u001b[0m \u001b[0msong\u001b[0m \u001b[1;33m==\u001b[0m \u001b[0msong_\u001b[0m\u001b[1;33m\u001b[0m\u001b[1;33m\u001b[0m\u001b[0m\n",
      "\u001b[1;31mNameError\u001b[0m: name 'normalized_recom' is not defined"
     ]
    }
   ],
   "source": []
  },
  {
   "cell_type": "code",
   "execution_count": 6,
   "id": "09085c95",
   "metadata": {},
   "outputs": [
    {
     "ename": "NameError",
     "evalue": "name 'git' is not defined",
     "output_type": "error",
     "traceback": [
      "\u001b[1;31m---------------------------------------------------------------------------\u001b[0m",
      "\u001b[1;31mNameError\u001b[0m                                 Traceback (most recent call last)",
      "\u001b[1;32m~\\AppData\\Local\\Temp\\ipykernel_11612\\2736113631.py\u001b[0m in \u001b[0;36m<module>\u001b[1;34m\u001b[0m\n\u001b[1;32m----> 1\u001b[1;33m \u001b[0mgit\u001b[0m \u001b[1;33m-\u001b[0m\u001b[1;33m-\u001b[0m\u001b[0mversion\u001b[0m\u001b[1;33m\u001b[0m\u001b[1;33m\u001b[0m\u001b[0m\n\u001b[0m",
      "\u001b[1;31mNameError\u001b[0m: name 'git' is not defined"
     ]
    }
   ],
   "source": []
  },
  {
   "cell_type": "code",
   "execution_count": null,
   "id": "4465b880",
   "metadata": {},
   "outputs": [],
   "source": []
  }
 ],
 "metadata": {
  "kernelspec": {
   "display_name": "Python 3 (ipykernel)",
   "language": "python",
   "name": "python3"
  },
  "language_info": {
   "codemirror_mode": {
    "name": "ipython",
    "version": 3
   },
   "file_extension": ".py",
   "mimetype": "text/x-python",
   "name": "python",
   "nbconvert_exporter": "python",
   "pygments_lexer": "ipython3",
   "version": "3.9.13"
  }
 },
 "nbformat": 4,
 "nbformat_minor": 5
}
