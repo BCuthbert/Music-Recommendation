{
 "cells": [
  {
   "cell_type": "code",
   "execution_count": 2,
   "id": "629645f7",
   "metadata": {},
   "outputs": [],
   "source": [
    "import os\n",
    "import pandas as pd\n",
    "import numpy as np\n",
    "import networkx as nx"
   ]
  },
  {
   "cell_type": "code",
   "execution_count": 3,
   "id": "d0f0fe20",
   "metadata": {},
   "outputs": [],
   "source": [
    "base_path = \"C:/Users/brade/Downloads/millionsongsubset/MillionSongSubset\""
   ]
  },
  {
   "cell_type": "code",
   "execution_count": 4,
   "id": "c392ec5b",
   "metadata": {},
   "outputs": [],
   "source": [
    "def collect_song_paths(base_path):\n",
    "    song_paths = []\n",
    "    for root, dirs, files in os.walk(base_path):\n",
    "        for file in files:\n",
    "            if file.endswith('.h5'):\n",
    "                song_paths.append(os.path.join(root, file))\n",
    "    return song_paths"
   ]
  },
  {
   "cell_type": "code",
   "execution_count": 5,
   "id": "913094d1",
   "metadata": {},
   "outputs": [
    {
     "name": "stdout",
     "output_type": "stream",
     "text": [
      "total number of songs: 10000\n"
     ]
    }
   ],
   "source": [
    "song_paths = collect_song_paths(base_path)\n",
    "print(f\"total number of songs: {len(song_paths)}\")"
   ]
  },
  {
   "cell_type": "code",
   "execution_count": 11,
   "id": "247788ee",
   "metadata": {},
   "outputs": [],
   "source": [
    "data = {\n",
    "    'user': ['user1', 'user1', 'user1', 'user2', 'user3'],  # Now length is 5\n",
    "    'song': ['The Prisoner\\s Song', 'Careless Love Blues', 'Looking My Love', 'Wreck of the Old 97', 'West Coast Blues']  # Length is 5\n",
    "}\n",
    "\n",
    "df = pd.DataFrame(data)\n",
    "\n",
    "df_additional = pd.DataFrame({\n",
    "    'user': ['user2', 'user3', 'user4', 'user1'],\n",
    "    'song': ['Looking My Love', 'Careless Love Blues', 'Wreck of the Old 97', 'West Coast Blues']\n",
    "})\n",
    "\n",
    "df = pd.concat([df, df_additional], ignore_index=True)\n",
    "\n",
    "\n"
   ]
  },
  {
   "cell_type": "code",
   "execution_count": null,
   "id": "f0236d0a",
   "metadata": {},
   "outputs": [],
   "source": [
    "G = nx.Graph()\n",
    "G.add_nodes_from(df['user'].unique(), bipartite=0) #users\n",
    "G.add_nodes_from(df['song'].unique(), bipartite=1) #songs\n",
    "G.add_edges_from(df.values)"
   ]
  },
  {
   "cell_type": "code",
   "execution_count": null,
   "id": "e3eb8411",
   "metadata": {},
   "outputs": [],
   "source": [
    "def katz_similarity(graph, beta=0.05):\n",
    "    adjacency = nx.adjacency_matrix(graph).todense()\n",
    "    I = np.identity(adjacency.shape[0])\n",
    "    katz_matrix = np.linalg.inv(I - beta * adjacency) - I\n",
    "    return katz_matrix"
   ]
  },
  {
   "cell_type": "code",
   "execution_count": 14,
   "id": "7dfccba9",
   "metadata": {},
   "outputs": [],
   "source": [
    "def normalize_scores(scores):\n",
    "    max_score = max(scores.values())\n",
    "    min_score = min(scores.values())\n",
    "    return {k: (v - min_score) / (max_score - min_score) for k, v in scores.items()}"
   ]
  },
  {
   "cell_type": "code",
   "execution_count": 18,
   "id": "ad947652",
   "metadata": {},
   "outputs": [
    {
     "name": "stdout",
     "output_type": "stream",
     "text": [
      "\n",
      "Katz Similarity Recommendations for user1:\n",
      "user3: 0.0051\n",
      "user2: 0.0025\n",
      "Wreck of the Old 97: 0.0001\n",
      "user4: 0.0000\n",
      "\n",
      "Adamic-Adar Scores for user1 and songs:\n"
     ]
    },
    {
     "name": "stderr",
     "output_type": "stream",
     "text": [
      "C:\\Users\\brade\\AppData\\Local\\Temp\\ipykernel_2892\\3214436760.py:24: FutureWarning: adjacency_matrix will return a scipy.sparse array instead of a matrix in Networkx 3.0.\n",
      "  adjacency = nx.adjacency_matrix(graph).todense()\n"
     ]
    }
   ],
   "source": [
    "katz_sim = katz_similarity(G, beta=0.05)\n",
    "nodes = list(G.nodes())\n",
    "target_user = 'user1'\n",
    "user_idx = node_index.index(target_user)\n",
    "\n",
    "user_katz_similarities = katz_sim[user_idx]\n",
    "\n",
    "# Convert to song scores\n",
    "song_recommendations = {\n",
    "    nodes[i]: user_katz_similarities[0, i]\n",
    "    for i in range(len(nodes))\n",
    "    if nodes[i] not in df[df['user'] == target_user]['song'].values and nodes[i] != target_user\n",
    "}\n",
    "\n",
    "normalized_recom = normalize_scores(song_recommendations)\n",
    "\n",
    "\n",
    "print(\"\\nKatz Similarity Recommendations for user1:\")\n",
    "for song, score in sorted(song_recommendations.items(), key=lambda x: -x[1]):\n",
    "    print(f\"{song}: {score:.4f}\")\n",
    "    \n",
    "    \n",
    "G_weighted = nx.Graph()\n",
    "for _, row in df.iterrows():\n",
    "    if(G_weighted.has_edge(row['user'], row['song'])):\n",
    "        G_weighted[row['user']][row['song']]['weight'] += 1\n",
    "    else:\n",
    "        G_weighted.add_edge(row['user'], row['song'], weight=1)\n",
    "\n",
    "# Step 2: Adamic-Adar Similarity Calculation\n",
    "print(\"\\nAdamic-Adar Scores for user1 and songs:\")\n",
    "adamic_adar_scores = nx.adamic_adar_index(G_weighted, [(target_user, n) for n in G_weighted.nodes() if n.startswith('song') and n not in df[df['user'] == target_user]['song'].values])\n",
    "\n",
    "for u, v, score in adamic_adar_scores:\n",
    "    print(f\"{v}: {score:.4f}\")"
   ]
  },
  {
   "cell_type": "code",
   "execution_count": 2,
   "id": "a5513300",
   "metadata": {},
   "outputs": [
    {
     "ename": "NameError",
     "evalue": "name 'normalized_recom' is not defined",
     "output_type": "error",
     "traceback": [
      "\u001b[1;31m---------------------------------------------------------------------------\u001b[0m",
      "\u001b[1;31mNameError\u001b[0m                                 Traceback (most recent call last)",
      "\u001b[1;32m~\\AppData\\Local\\Temp\\ipykernel_11612\\2539246175.py\u001b[0m in \u001b[0;36m<module>\u001b[1;34m\u001b[0m\n\u001b[0;32m      1\u001b[0m hybrid_scores = {\n\u001b[0;32m      2\u001b[0m     \u001b[0msong\u001b[0m\u001b[1;33m:\u001b[0m \u001b[1;36m0.7\u001b[0m \u001b[1;33m*\u001b[0m \u001b[0mkatz_score\u001b[0m \u001b[1;33m+\u001b[0m \u001b[1;36m0.3\u001b[0m \u001b[1;33m*\u001b[0m \u001b[0madamic_score\u001b[0m\u001b[1;33m\u001b[0m\u001b[1;33m\u001b[0m\u001b[0m\n\u001b[1;32m----> 3\u001b[1;33m     \u001b[1;32mfor\u001b[0m \u001b[0msong\u001b[0m\u001b[1;33m,\u001b[0m \u001b[0mkatz_score\u001b[0m \u001b[1;32min\u001b[0m \u001b[0mnormalized_recom\u001b[0m\u001b[1;33m.\u001b[0m\u001b[0mitems\u001b[0m\u001b[1;33m(\u001b[0m\u001b[1;33m)\u001b[0m\u001b[1;33m\u001b[0m\u001b[1;33m\u001b[0m\u001b[0m\n\u001b[0m\u001b[0;32m      4\u001b[0m     \u001b[1;32mfor\u001b[0m \u001b[0m_\u001b[0m\u001b[1;33m,\u001b[0m \u001b[0msong_\u001b[0m\u001b[1;33m,\u001b[0m \u001b[0madamic_score\u001b[0m \u001b[1;32min\u001b[0m \u001b[0madamic_adar_scores\u001b[0m\u001b[1;33m\u001b[0m\u001b[1;33m\u001b[0m\u001b[0m\n\u001b[0;32m      5\u001b[0m     \u001b[1;32mif\u001b[0m \u001b[0msong\u001b[0m \u001b[1;33m==\u001b[0m \u001b[0msong_\u001b[0m\u001b[1;33m\u001b[0m\u001b[1;33m\u001b[0m\u001b[0m\n",
      "\u001b[1;31mNameError\u001b[0m: name 'normalized_recom' is not defined"
     ]
    }
   ],
   "source": [
    "hybrid_scores = {\n",
    "    song: 0.7 * katz_score + 0.3 * adamic_score\n",
    "    for song, katz_score in normalized_recom.items()\n",
    "    for _, song_, adamic_score in adamic_adar_scores\n",
    "    if song == song_\n",
    "}\n",
    "print(\"\\nHybrid Recommendations for user1\")\n",
    "for song, score in sorted(hybrid_scores.items(), key=lambda x: -x[1]):\n",
    "    print(f\"{song}: {score: .4f}\")"
   ]
  },
  {
   "cell_type": "code",
   "execution_count": 6,
   "id": "09085c95",
   "metadata": {},
   "outputs": [
    {
     "ename": "NameError",
     "evalue": "name 'git' is not defined",
     "output_type": "error",
     "traceback": [
      "\u001b[1;31m---------------------------------------------------------------------------\u001b[0m",
      "\u001b[1;31mNameError\u001b[0m                                 Traceback (most recent call last)",
      "\u001b[1;32m~\\AppData\\Local\\Temp\\ipykernel_11612\\2736113631.py\u001b[0m in \u001b[0;36m<module>\u001b[1;34m\u001b[0m\n\u001b[1;32m----> 1\u001b[1;33m \u001b[0mgit\u001b[0m \u001b[1;33m-\u001b[0m\u001b[1;33m-\u001b[0m\u001b[0mversion\u001b[0m\u001b[1;33m\u001b[0m\u001b[1;33m\u001b[0m\u001b[0m\n\u001b[0m",
      "\u001b[1;31mNameError\u001b[0m: name 'git' is not defined"
     ]
    }
   ],
   "source": []
  },
  {
   "cell_type": "code",
   "execution_count": null,
   "id": "4465b880",
   "metadata": {},
   "outputs": [],
   "source": []
  }
 ],
 "metadata": {
  "kernelspec": {
   "display_name": "Python 3 (ipykernel)",
   "language": "python",
   "name": "python3"
  },
  "language_info": {
   "codemirror_mode": {
    "name": "ipython",
    "version": 3
   },
   "file_extension": ".py",
   "mimetype": "text/x-python",
   "name": "python",
   "nbconvert_exporter": "python",
   "pygments_lexer": "ipython3",
   "version": "3.9.13"
  }
 },
 "nbformat": 4,
 "nbformat_minor": 5
}
